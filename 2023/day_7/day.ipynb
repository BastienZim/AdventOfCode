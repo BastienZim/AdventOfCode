{
 "cells": [
  {
   "cell_type": "code",
   "execution_count": 247,
   "metadata": {},
   "outputs": [],
   "source": [
    "import regex as re\n",
    "import numpy as np\n",
    "\n",
    "INPUT_FILE_PATH = './input.txt'\n",
    "#INPUT_FILE_PATH = './example_in.txt'\n",
    "\n",
    "\n",
    "\n",
    "def parse_input_file():\n",
    "    with open(INPUT_FILE_PATH, 'r') as f:\n",
    "        lines = f.read().split(\"\\n\")\n",
    "    return lines\n"
   ]
  },
  {
   "cell_type": "code",
   "execution_count": 248,
   "metadata": {},
   "outputs": [
    {
     "data": {
      "text/plain": [
       "['3A399 27',\n",
       " '46645 201',\n",
       " '8A9K4 40',\n",
       " '88333 578',\n",
       " '55353 817',\n",
       " '99Q99 146',\n",
       " '553J5 45',\n",
       " 'AAQ2A 547',\n",
       " 'TKQ2K 120',\n",
       " '57592 534']"
      ]
     },
     "execution_count": 248,
     "metadata": {},
     "output_type": "execute_result"
    }
   ],
   "source": [
    "lines = parse_input_file()\n",
    "lines[:10]"
   ]
  },
  {
   "cell_type": "code",
   "execution_count": 249,
   "metadata": {},
   "outputs": [],
   "source": [
    "def parse_lines(lines):\n",
    "    res = []\n",
    "    for l in lines:\n",
    "        cards, bid = l.split(\" \")\n",
    "        res.append((cards,int(bid)))\n",
    "    return(res)\n",
    "    \n",
    "#parse_lines(lines)"
   ]
  },
  {
   "cell_type": "code",
   "execution_count": 250,
   "metadata": {},
   "outputs": [],
   "source": [
    "from collections import Counter\n"
   ]
  },
  {
   "cell_type": "raw",
   "metadata": {},
   "source": [
    "card_rankorder = ['2', '3', '4', '5', '6', '7', '8', '9', 'T', 'J', 'Q', 'K', 'A']\n",
    "for x in card_rankorder:\n",
    "    a = f\"{(card_rankorder.index(x)+1)/(len(card_rankorder)+1):.2f}\"[2:]\n",
    "    print(a)"
   ]
  },
  {
   "cell_type": "code",
   "execution_count": 251,
   "metadata": {},
   "outputs": [
    {
     "name": "stdout",
     "output_type": "stream",
     "text": [
      "1\n"
     ]
    },
    {
     "data": {
      "text/plain": [
       "[1, 1, 2]"
      ]
     },
     "execution_count": 251,
     "metadata": {},
     "output_type": "execute_result"
    }
   ],
   "source": [
    "a = \"QQTJK\"\n",
    "counter = Counter(a)\n",
    "#max(count)\n",
    "n_j = sum([1 for x in a if x==\"J\"])\n",
    "print(n_j)\n",
    "#sorted(list(Counter(a.replace(\"J\",\"\")).items()), key = lambda x: x[1])\n",
    "sorted(Counter(a.replace(\"J\",\"\")).values())"
   ]
  },
  {
   "cell_type": "code",
   "execution_count": 252,
   "metadata": {},
   "outputs": [],
   "source": [
    "\n",
    "def get_value(card):\n",
    "    card_rankorder = [ 'J', '2', '3', '4', '5', '6', '7', '8', '9', 'T', 'Q', 'K', 'A']\n",
    "    count = Counter(card)\n",
    "    count_values = count.values()\n",
    "    decimals = \"\".join([f\"{(card_rankorder.index(x)+1)/(len(card_rankorder)+1):.2f}\"[2:] for x in card])\n",
    "    #print(decimals)\n",
    "    #card=  card.replace()\n",
    "    n_j = sum([1 for x in card if x==\"J\"])\n",
    "    count_values = sorted(Counter(card.replace(\"J\",\"\")).values())\n",
    "    if(len(count_values)==0):\n",
    "        return(7)\n",
    "    if(max(count_values) + n_j <=5):\n",
    "        count_values[-1] += n_j\n",
    "    else:\n",
    "        print(count_values, n_j, card)\n",
    "\n",
    "    if(5 in count_values):\n",
    "        return(float('7.'+decimals))\n",
    "    elif(4 in count_values):\n",
    "        return(float('6.'+decimals))\n",
    "    elif(3 in count_values):\n",
    "        if(2 in count_values):\n",
    "            return(float('5.'+decimals))\n",
    "        else:\n",
    "            return(float('4.'+decimals))\n",
    "    n_2 = sum([1 for x in count_values if x==2])\n",
    "    \n",
    "    if(n_2==2):\n",
    "        return(float('3.'+decimals))\n",
    "    elif(n_2==1):\n",
    "        return(float('2.'+decimals))\n",
    "    else:\n",
    "        assert(len(card) == len(set(card)))\n",
    "        return(float('1.'+decimals))\n",
    "\n",
    "        "
   ]
  },
  {
   "cell_type": "code",
   "execution_count": 253,
   "metadata": {},
   "outputs": [
    {
     "data": {
      "text/plain": [
       "253718286"
      ]
     },
     "execution_count": 253,
     "metadata": {},
     "output_type": "execute_result"
    }
   ],
   "source": [
    "sorted_bids = sorted([(get_value(c),b) for c,b in parse_lines(lines)], key = lambda x:x[0])\n",
    "sum([(i+1)*x[1] for i,x in enumerate(sorted_bids)])"
   ]
  },
  {
   "cell_type": "markdown",
   "metadata": {},
   "source": [
    "253767704\n"
   ]
  },
  {
   "cell_type": "code",
   "execution_count": 254,
   "metadata": {},
   "outputs": [],
   "source": [
    "#for c,b in parse_lines(lines):\n",
    "#    print(c, get_value(c),b )"
   ]
  },
  {
   "cell_type": "code",
   "execution_count": null,
   "metadata": {},
   "outputs": [],
   "source": []
  }
 ],
 "metadata": {
  "kernelspec": {
   "display_name": "Python 3",
   "language": "python",
   "name": "python3"
  },
  "language_info": {
   "codemirror_mode": {
    "name": "ipython",
    "version": 3
   },
   "file_extension": ".py",
   "mimetype": "text/x-python",
   "name": "python",
   "nbconvert_exporter": "python",
   "pygments_lexer": "ipython3",
   "version": "3.8.10"
  }
 },
 "nbformat": 4,
 "nbformat_minor": 2
}
