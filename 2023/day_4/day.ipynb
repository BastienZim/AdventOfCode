{
 "cells": [
  {
   "cell_type": "code",
   "execution_count": 121,
   "metadata": {},
   "outputs": [],
   "source": [
    "import regex as re\n",
    "import numpy as np\n",
    "\n",
    "INPUT_FILE_PATH = './input.txt'\n",
    "#INPUT_FILE_PATH = './example_in.txt'\n",
    "\n",
    "\n",
    "lines = parse_input_file()\n",
    "\n",
    "\n",
    "def parse_input_file():\n",
    "    with open(INPUT_FILE_PATH, 'r') as f:\n",
    "        lines = f.read().split(\"\\n\")\n",
    "    return lines\n"
   ]
  },
  {
   "cell_type": "code",
   "execution_count": 122,
   "metadata": {},
   "outputs": [
    {
     "data": {
      "text/plain": [
       "['Card   1: 99 46 62 92 60 37 52 56 41 31 | 83 40 31 33 46  3 10 39 82  8 64 35  5 63 60 72 48 87 11 81 95 34 97 37 99',\n",
       " 'Card   2: 98 96 50 60  7 40 83 93 55 26 | 45 38 47 98 32 50 55 35 93 11 97 53 74 83 99 60 73 56 40 58 96 66 90 26  7',\n",
       " 'Card   3: 82  8 12 15 53 23 29 61  5 21 | 21 73  5 65 44 29 61 97 15  4 90 76 53 91 13 27  9 11  2 75 22 92 95 82 86',\n",
       " 'Card   4: 68 22 77 52 23 60 57 31 74 38 | 22 38 68 79 52 23 40 57 10 74 31 83 24 60 95 17 78 89 39 37 87 26 77 63 54',\n",
       " 'Card   5: 94 23 38 14 31 47  8 15 19 79 | 94 45 21 70 43 95 79 38 19 67 24 62 71 84 14 87 63 47 36 26  8 66 31 15 23',\n",
       " 'Card   6: 37 56 14 26 46 19 58 99 41 55 | 95 25 39 19 26 99 21 11 56 46  3 53 33 36  4 15 55 28 58 37 14 50 94 49 44',\n",
       " 'Card   7: 68 13 44 81 92 43  9 78 85 62 | 19  8 91 71 76 54 72 87 68 16 46 94 92 63 62 67 28 84 18 88 24 14 37 30 81',\n",
       " 'Card   8: 73 86 24 66 38 95 71 90 88 22 | 44 88 30 24 97 34 99 66 94 26 86 90 52 55 84  7 78 40 71 73 50 95 61 38 22',\n",
       " 'Card   9: 98 71 24 85 11 74 22 35 65 59 | 18 43 54 36 71 86 22  7 85 78 46  6 77 62 38 98 83 65 88 37 84 70 72 59 23',\n",
       " 'Card  10:  5 87 77 60 62 86 42 33 43 76 | 86 19 26 77  5 60 21 34 44 76 33 85 78 67 79 13 18 42 87 59 54 43 62 65 16']"
      ]
     },
     "execution_count": 122,
     "metadata": {},
     "output_type": "execute_result"
    }
   ],
   "source": [
    "lines = parse_input_file()\n",
    "lines[:10]"
   ]
  },
  {
   "cell_type": "code",
   "execution_count": 123,
   "metadata": {},
   "outputs": [],
   "source": [
    "import numpy as np\n",
    "import math"
   ]
  },
  {
   "cell_type": "code",
   "execution_count": 124,
   "metadata": {},
   "outputs": [],
   "source": [
    "def parse_line(l):\n",
    "    winning, yours = \"\".join(l.split(\": \")[1:]).split(\" | \")\n",
    "    \n",
    "    while(\"  \" in yours):\n",
    "        yours = yours.replace(\"  \",\" \")\n",
    "    while(\"  \" in winning):\n",
    "        winning = winning.replace(\"  \",\" \")\n",
    "    winning = [int(x) for x in winning.split(\" \") if len(x)>0]\n",
    "    yours = [int(x) for x in  yours.split(\" \") if len(x)>0]\n",
    "\n",
    "    return(winning, yours)\n",
    "\n",
    "def get_matches_num(winning, yours):\n",
    "    return(len([x for x in yours if x in winning]))"
   ]
  },
  {
   "cell_type": "code",
   "execution_count": 125,
   "metadata": {},
   "outputs": [
    {
     "name": "stdout",
     "output_type": "stream",
     "text": [
      "6050769\n"
     ]
    }
   ],
   "source": [
    "all_match_count = [get_matches_num(*parse_line(l)) for l in lines]\n",
    "temp = [1 for x in all_match_count]\n",
    "#print(temp)\n",
    "#print(all_match_count)\n",
    "for i, n_match in enumerate(all_match_count):\n",
    "    for k in range(i, i+n_match):\n",
    "        temp[k+1]+= temp[i]\n",
    "    \n",
    "    #print(f\"For card {i+1} you won {temp[i]} copy of card {[k+2 for k in range(i, i+n_match)]}\")\n",
    "    #print(f\"you have : {temp[i:]}\")\n",
    "    #print(\"\")\n",
    "    \n",
    "print(sum(temp))\n"
   ]
  },
  {
   "cell_type": "code",
   "execution_count": 126,
   "metadata": {},
   "outputs": [
    {
     "name": "stdout",
     "output_type": "stream",
     "text": [
      "21158 [16, 512, 64, 512, 512, 256, 8, 512, 32, 512, 8, 256, 512, 128, 4, 2, 1, 4, 2, 2, 2, 512, 128, 64, 512, 1, 64, 8, 128, 2, 8, 2, 4, 2, 2, 1, 512, 32, 32, 4, 16, 8, 512, 16, 512, 4, 256, 32, 1, 128, 32, 128, 64, 2, 8, 2, 1, 64, 128, 512, 64, 2, 32, 32, 8, 8, 1, 8, 4, 1, 512, 4, 64, 512, 512, 32, 128, 2, 16, 512, 512, 2, 1, 64, 4, 1, 4, 512, 32, 512, 64, 64, 128, 512, 2, 64, 16, 4, 16, 64, 16, 32, 2, 2, 4, 2, 1, 256, 128, 128, 512, 512, 32, 2, 1, 512, 1, 16, 1, 1, 8, 4, 4, 2, 16, 256, 128, 2, 512, 2, 16, 1, 8, 8, 8, 1, 2, 2, 512, 512, 8, 64, 16, 512, 8, 32, 128, 128, 16, 4, 64, 32, 16, 1, 512, 512, 512, 512, 4, 2, 512, 2, 16, 4, 16, 16, 8, 2, 1]\n"
     ]
    }
   ],
   "source": [
    "scores = []\n",
    "\n",
    "for l in lines:\n",
    "    n_matches = get_matches_num(*parse_line(l))\n",
    "\n",
    "\n",
    "    #print(len(matches))\n",
    "    if(n_matches>=1):\n",
    "        scores.append(2**(n_matches-1))\n",
    "\n",
    "print(sum(scores),scores, )\n",
    "        #print([2*i-1 for i in range(1,len(matches)+1)])\n",
    "    #print(winning)\n",
    "    #print(yours)"
   ]
  }
 ],
 "metadata": {
  "kernelspec": {
   "display_name": "Python 3",
   "language": "python",
   "name": "python3"
  },
  "language_info": {
   "codemirror_mode": {
    "name": "ipython",
    "version": 3
   },
   "file_extension": ".py",
   "mimetype": "text/x-python",
   "name": "python",
   "nbconvert_exporter": "python",
   "pygments_lexer": "ipython3",
   "version": "3.8.10"
  }
 },
 "nbformat": 4,
 "nbformat_minor": 2
}
