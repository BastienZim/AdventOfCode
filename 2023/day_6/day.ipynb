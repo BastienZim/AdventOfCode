{
 "cells": [
  {
   "cell_type": "code",
   "execution_count": 109,
   "metadata": {},
   "outputs": [],
   "source": [
    "import regex as re\n",
    "import numpy as np\n",
    "\n",
    "INPUT_FILE_PATH = './input.txt'\n",
    "#INPUT_FILE_PATH = './example_in.txt'\n",
    "\n",
    "\n",
    "def parse_input_file():\n",
    "    with open(INPUT_FILE_PATH, 'r') as f:\n",
    "        lines = f.read().split(\"\\n\")\n",
    "    return lines\n"
   ]
  },
  {
   "cell_type": "code",
   "execution_count": 110,
   "metadata": {},
   "outputs": [
    {
     "data": {
      "text/plain": [
       "['Time:        47     98     66     98',\n",
       " 'Distance:   400   1213   1011   1540']"
      ]
     },
     "execution_count": 110,
     "metadata": {},
     "output_type": "execute_result"
    }
   ],
   "source": [
    "lines = parse_input_file()\n",
    "lines"
   ]
  },
  {
   "cell_type": "code",
   "execution_count": 111,
   "metadata": {},
   "outputs": [],
   "source": [
    "def parse_lines(lines):\n",
    "    times = \"\".join(lines[0].split(\": \")[1:])\n",
    "        \n",
    "    while(\"  \" in times):\n",
    "        times = times.replace(\"  \",\" \")\n",
    "    times = [int(x) for x in times.split(\" \") if len(x)>0]\n",
    "\n",
    "    distances = \"\".join(lines[1].split(\": \")[1:])\n",
    "        \n",
    "    while(\"  \" in distances):\n",
    "        distances = distances.replace(\"  \",\" \")\n",
    "    distances = [int(x) for x in distances.split(\" \") if len(x)>0]\n",
    "    races = [(t,d) for t,d in zip(times, distances)]\n",
    "    return(races)"
   ]
  },
  {
   "cell_type": "code",
   "execution_count": null,
   "metadata": {},
   "outputs": [],
   "source": []
  },
  {
   "cell_type": "code",
   "execution_count": 112,
   "metadata": {},
   "outputs": [
    {
     "name": "stdout",
     "output_type": "stream",
     "text": [
      "[12, 13, 14, 15, 16, 17, 18, 19, 20, 21, 22, 23, 24, 25, 26, 27, 28, 29, 30, 31, 32, 33, 34, 35]\n",
      "[15, 16, 17, 18, 19, 20, 21, 22, 23, 24, 25, 26, 27, 28, 29, 30, 31, 32, 33, 34, 35, 36, 37, 38, 39, 40, 41, 42, 43, 44, 45, 46, 47, 48, 49, 50, 51, 52, 53, 54, 55, 56, 57, 58, 59, 60, 61, 62, 63, 64, 65, 66, 67, 68, 69, 70, 71, 72, 73, 74, 75, 76, 77, 78, 79, 80, 81, 82, 83]\n",
      "[25, 26, 27, 28, 29, 30, 31, 32, 33, 34, 35, 36, 37, 38, 39, 40, 41]\n",
      "[20, 21, 22, 23, 24, 25, 26, 27, 28, 29, 30, 31, 32, 33, 34, 35, 36, 37, 38, 39, 40, 41, 42, 43, 44, 45, 46, 47, 48, 49, 50, 51, 52, 53, 54, 55, 56, 57, 58, 59, 60, 61, 62, 63, 64, 65, 66, 67, 68, 69, 70, 71, 72, 73, 74, 75, 76, 77, 78]\n",
      "1660968\n"
     ]
    }
   ],
   "source": [
    "\n",
    "races = parse_lines(lines)\n",
    "\n",
    "boat = (0, 0)\n",
    "\n",
    "res = []\n",
    "for (t,d) in races:\n",
    "    #print(t,d)\n",
    "    #print()\n",
    "    possible_distances = [(t-i)*i for i in range(t+1)]\n",
    "    #print(possible_distances)\n",
    "    winning_possibilities = [i for i,x in enumerate(possible_distances) if x> d]\n",
    "    print(winning_possibilities)\n",
    "    if(len(winning_possibilities)>0):\n",
    "        res.append(len(winning_possibilities))\n",
    "    #for i in range(t+1):\n",
    "    #    print(i) \n",
    "    #    remain= t-i\n",
    "    #    speed = i\n",
    "    #    distance = (t-i)*i\n",
    "    #    print(distance)\n",
    "prod = 1\n",
    "for k in res:\n",
    "    prod *= k\n",
    "print(prod)\n",
    "    \n"
   ]
  },
  {
   "cell_type": "code",
   "execution_count": 113,
   "metadata": {},
   "outputs": [
    {
     "data": {
      "text/plain": [
       "[(47986698, 400121310111540)]"
      ]
     },
     "execution_count": 113,
     "metadata": {},
     "output_type": "execute_result"
    }
   ],
   "source": [
    "def parse_lines2(lines):\n",
    "    times = \"\".join(lines[0].split(\": \")[1:])\n",
    "        \n",
    "    while(\" \" in times):\n",
    "        times = times.replace(\" \",\"\")\n",
    "    times = [int(x) for x in times.split(\" \") if len(x)>0]\n",
    "    #print(times)\n",
    "    \n",
    "    distances = \"\".join(lines[1].split(\": \")[1:])\n",
    "    while(\" \" in distances):\n",
    "        distances = distances.replace(\" \",\"\")\n",
    "    distances = [int(x) for x in distances.split(\" \") if len(x)>0]\n",
    "    \n",
    "\n",
    "    races = [(t,d) for t,d in zip(times, distances)]\n",
    "    return(races)\n",
    "race = parse_lines2(lines)\n",
    "race\n",
    "#race"
   ]
  },
  {
   "cell_type": "code",
   "execution_count": 114,
   "metadata": {},
   "outputs": [
    {
     "data": {
      "text/plain": [
       "26499773"
      ]
     },
     "execution_count": 114,
     "metadata": {},
     "output_type": "execute_result"
    }
   ],
   "source": [
    "t, d = race[0]\n",
    "\n",
    "possible_distances = [(t-i)*i for i in range(t+1)]\n",
    "#print(len(winning_possibilities))\n",
    "len([i for i,x in enumerate(possible_distances) if x> d])\n"
   ]
  },
  {
   "cell_type": "code",
   "execution_count": null,
   "metadata": {},
   "outputs": [],
   "source": []
  }
 ],
 "metadata": {
  "kernelspec": {
   "display_name": "Python 3",
   "language": "python",
   "name": "python3"
  },
  "language_info": {
   "codemirror_mode": {
    "name": "ipython",
    "version": 3
   },
   "file_extension": ".py",
   "mimetype": "text/x-python",
   "name": "python",
   "nbconvert_exporter": "python",
   "pygments_lexer": "ipython3",
   "version": "3.8.10"
  }
 },
 "nbformat": 4,
 "nbformat_minor": 2
}
