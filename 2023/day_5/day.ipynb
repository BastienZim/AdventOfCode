{
 "cells": [
  {
   "cell_type": "code",
   "execution_count": 1,
   "metadata": {},
   "outputs": [
    {
     "name": "stdout",
     "output_type": "stream",
     "text": [
      "  Part 1 Solution is 35\n",
      "False\n",
      "68\n",
      "79\n",
      "[(55, 68), (79, 93)]\n"
     ]
    }
   ],
   "source": [
    "import regex as re\n",
    "import numpy as np\n",
    "\n",
    "INPUT_FILE_PATH = './input.txt'\n",
    "INPUT_FILE_PATH = './example_in.txt'\n",
    "\n",
    "list_to_find= [\"seeds\", \"seed-to-soil map\", \"soil-to-fertilizer map\", \"fertilizer-to-water map\", \"water-to-light map\", \"light-to-temperature map\", \"temperature-to-humidity map\", \"humidity-to-location map\"]\n",
    "\n",
    "\n",
    "\n",
    "\n",
    "def main():\n",
    "    lines = parse_input_file()\n",
    "\n",
    "    all_things = get_interesting_things(lines)\n",
    "    map_1 = all_things['seed-to-soil']\n",
    "    \n",
    "    dict_map_order = get_map_order(all_things)\n",
    "    elements = [k.split(\"-to-\")[-1] for k in all_things.keys()]\n",
    "    map_order = [dict_map_order[elt] for elt in elements if elt in dict_map_order.keys()]\n",
    "    \n",
    "    \n",
    "    seeds = all_things['seeds'][0]\n",
    "\n",
    "    first_location =min( [process_seed(s, all_things, map_order) for s in seeds])\n",
    "    print(f\"  Part 1 Solution is {first_location}\")\n",
    "\n",
    "\n",
    "    all_seeds = []\n",
    "    for i in range(0,len(seeds),2):\n",
    "        start, length = seeds[i], seeds[i+1]\n",
    "        all_seeds.append((start,start+length))\n",
    "    all_seeds = sorted(all_seeds, key= lambda x: x[0])\n",
    "    for s1, s2 in zip(all_seeds, all_seeds[1:]):\n",
    "        print(s1[1]>s2[0]>s1[0])\n",
    "        print(s1[1])\n",
    "        print(s2[0])\n",
    "    print(sorted(all_seeds, key= lambda x: x[0]))\n",
    "\n",
    "    #mini = np.inf\n",
    "    #for i in range(0,len(seeds),2):\n",
    "    #    start, length = seeds[i], seeds[i+1]\n",
    "    #    for s in range(start,start+length):\n",
    "    #        new_loc = process_seed(s, all_things, map_order)\n",
    "    #        if(new_loc<mini):\n",
    "    #            mini = new_loc\n",
    "    #            print(mini)\n",
    "    #    all_mins.append(min_loc)\n",
    "    #    \n",
    "#\n",
    " #   print(f\"  Part 2 Solution is {mini}\")\n",
    "\n",
    "    \n",
    "\n",
    "def process_seed(s, all_things, map_order):\n",
    "    number = s\n",
    "    #temp_nums = [s]\n",
    "    for map_name in map_order:\n",
    "        number = find_correspondences(number, all_things[map_name])\n",
    "        #temp_nums.append(number)\n",
    "    return(number)\n",
    "\n",
    "        \n",
    "def get_map_order(all_things):\n",
    "    dict_map_order = {}\n",
    "    for k in all_things:\n",
    "        if(\"-to-\") in k:\n",
    "            bef, aft = k.split(\"-to-\")\n",
    "            if(\"seed\" in bef):\n",
    "                bef = bef.replace(\"seed\",\"seeds\")\n",
    "            dict_map_order[bef] = k\n",
    "\n",
    "    return(dict_map_order)\n",
    "\n",
    "\n",
    "\n",
    "def find_correspondences(number, map):\n",
    "\n",
    "    source_mins = [x[1] for x in map]\n",
    "    source_maxs = [x[1]+x[2] for x in map]\n",
    "    offsets = [x[0]-x[1] for x in map]\n",
    "    for mini, maxi, ofst in zip(source_mins, source_maxs, offsets):\n",
    "        if mini <= number < maxi:\n",
    "            #print(number+ofst)\n",
    "            return(number+ofst)\n",
    "\n",
    "    return(number)\n",
    "\n",
    "def get_interesting_things(lines):\n",
    "    new_stock=[]\n",
    "    all_things = {}\n",
    "    for i,l in enumerate(lines):\n",
    "        for w in list_to_find:\n",
    "            if(w in l):\n",
    "                \n",
    "                if(len(new_stock)>0):\n",
    "                    new_stock[0] = \": \".join(new_stock[0].split(\":\")[1:])\n",
    "                    new_stock = list(filter(lambda x: len(x)>0,new_stock))\n",
    "                    new_stock = list(map(lambda x: x.split(\" \"),new_stock))\n",
    "                    new_stock = list(map(lambda x: [int(a) for a in x if(len(a)>0)],new_stock))\n",
    "                    if(\"to\" in current_name):\n",
    "                        current_name = \"\".join(current_name.split(\" map\")[:-1])\n",
    "                    all_things[current_name]= new_stock\n",
    "                new_stock = []\n",
    "                current_name = w\n",
    "        new_stock.append(l)\n",
    "    \n",
    "    new_stock[0] = \": \".join(new_stock[0].split(\":\")[1:])\n",
    "    new_stock = list(filter(lambda x: len(x)>0,new_stock))\n",
    "    new_stock = list(map(lambda x: x.split(\" \"),new_stock))\n",
    "    new_stock = list(map(lambda x: [int(a) for a in x if(len(a)>0)],new_stock))\n",
    "    if(\"to\" in current_name):\n",
    "        current_name = \"\".join(current_name.split(\" map\")[:-1])\n",
    "    all_things[current_name]= new_stock\n",
    "    return(all_things)\n",
    "\n",
    "\n",
    "\n",
    "def parse_input_file():\n",
    "    with open(INPUT_FILE_PATH, 'r') as f:\n",
    "        lines = f.read().split(\"\\n\")\n",
    "    return lines\n",
    "\n",
    "if __name__ == \"__main__\":\n",
    "    main()"
   ]
  },
  {
   "cell_type": "code",
   "execution_count": 2,
   "metadata": {},
   "outputs": [
    {
     "name": "stdout",
     "output_type": "stream",
     "text": [
      "  Part 1 Solution is 35\n",
      "[range(55, 68), range(79, 93)]\n"
     ]
    }
   ],
   "source": [
    "lines = parse_input_file()\n",
    "\n",
    "all_things = get_interesting_things(lines)\n",
    "map_1 = all_things['seed-to-soil']\n",
    "\n",
    "dict_map_order = get_map_order(all_things)\n",
    "elements = [k.split(\"-to-\")[-1] for k in all_things.keys()]\n",
    "map_order = [dict_map_order[elt] for elt in elements if elt in dict_map_order.keys()]\n",
    "\n",
    "\n",
    "seeds = all_things['seeds'][0]\n",
    "\n",
    "first_location =min( [process_seed(s, all_things, map_order) for s in seeds])\n",
    "print(f\"  Part 1 Solution is {first_location}\")\n",
    "\n",
    "\n",
    "all_seeds = []\n",
    "for i in range(0,len(seeds),2):\n",
    "    start, length = seeds[i], seeds[i+1]\n",
    "    all_seeds.append((start,start+length))\n",
    "all_seeds = sorted(all_seeds, key= lambda x: x[0])\n",
    "all_seeds = [range(x[0],x[1]) for x in all_seeds]\n",
    "print(all_seeds)\n"
   ]
  },
  {
   "cell_type": "code",
   "execution_count": 4,
   "metadata": {},
   "outputs": [],
   "source": [
    "def process_seed(s, all_things, map_order):\n",
    "    number = s\n",
    "    #temp_nums = [s]\n",
    "    for map_name in map_order:\n",
    "        number = find_correspondences(number, all_things[map_name])\n",
    "        #temp_nums.append(number)\n",
    "    return(number)\n",
    "\n",
    "\n",
    "\n",
    "def process_seeds_range(all_seeds_ranges, all_things, map_order):\n",
    "    res_ranges = []\n",
    "#    dict_maps_ranges = {x: [] for x in map_order}\n",
    "    \n",
    "    current_ranges = all_seeds_ranges\n",
    "    print(all_seeds_ranges)\n",
    "    processed_ranges = []\n",
    "    for map_name in map_order:\n",
    "        for r in current_ranges:\n",
    "            #print(r, map_name)\n",
    "            res =  process_range(r, all_things[map_name])\n",
    "            processed_ranges += res\n",
    "            #print(f\"  \", res)\n",
    "        #print(map_name, processed_ranges)\n",
    "        sum_1 = [x[1]-x[0] for x in current_ranges]\n",
    "        sum_2 = [x[1]-x[0] for x in processed_ranges]\n",
    "        #print(\"CHECK HERE !!!\" , sum_1==sum_2)\n",
    "        processed_ranges = union_of_ranges(processed_ranges)\n",
    "        #print(\"U\", processed_ranges)\n",
    "        \n",
    "        current_ranges, processed_ranges = processed_ranges, []\n",
    "    return(current_ranges)"
   ]
  },
  {
   "cell_type": "code",
   "execution_count": 5,
   "metadata": {},
   "outputs": [
    {
     "data": {
      "text/plain": [
       "46"
      ]
     },
     "execution_count": 5,
     "metadata": {},
     "output_type": "execute_result"
    }
   ],
   "source": [
    "process_seed(82, all_things, map_order)"
   ]
  },
  {
   "cell_type": "code",
   "execution_count": null,
   "metadata": {},
   "outputs": [],
   "source": []
  },
  {
   "cell_type": "code",
   "execution_count": 23,
   "metadata": {},
   "outputs": [
    {
     "name": "stdout",
     "output_type": "stream",
     "text": [
      "None None [(52, 54), (79, 93)]\n"
     ]
    }
   ],
   "source": [
    "\n",
    "r1, r2  =(79, 93), (52,54)\n",
    "intersect = intersect_of_ranges(r1,r2)\n",
    "letover = difference_of_ranges(r1,r2)\n",
    "union = union_of_ranges([r1,r2])\n",
    "print(intersect, letover, union)"
   ]
  },
  {
   "cell_type": "code",
   "execution_count": null,
   "metadata": {},
   "outputs": [
    {
     "name": "stdout",
     "output_type": "stream",
     "text": [
      "(79, 93) 14 14\n",
      "(55, 68) 13 13\n"
     ]
    }
   ],
   "source": [
    "for r in  [(79, 93), (55, 68)]:\n",
    "    a = process_range(r, all_things[map_order[0]])[0]\n",
    "    print(a, a[1]-a[0], r[1]-r[0])"
   ]
  },
  {
   "cell_type": "code",
   "execution_count": 18,
   "metadata": {},
   "outputs": [],
   "source": [
    "\n",
    "def process_range(input_range, map_sel):\n",
    "    out_ranges = []    \n",
    "    for x in map_sel:\n",
    "        map_range = (x[1],x[1]+x[2])\n",
    "        #print(input_range, map_range)\n",
    "        offsets = x[0]-x[1]\n",
    "        intersect = intersect_of_ranges(input_range, map_range)\n",
    "        if(intersect):\n",
    "#            print(\"III\",intersect, f\"+{offset}\")\n",
    "            out_ranges.append((intersect[0]+offsets,intersect[1]+offsets))\n",
    "            left_overs = difference_of_ranges(input_range, map_range)\n",
    "            if(left_overs):\n",
    "                #print(\"LL\",left_overs)\n",
    "                out_ranges += left_overs\n",
    "        else:\n",
    "            out_ranges += [input_range]\n",
    "        \n",
    "    out_ranges = union_of_ranges(out_ranges)\n",
    "    return(out_ranges)\n",
    "\n",
    "def difference_of_ranges(range1, range2):\n",
    "\n",
    "    intersect = intersect_of_ranges(range1, range2)\n",
    "    ranges = []\n",
    "    if(intersect):\n",
    "        bi, ei = intersect[0], intersect[1]\n",
    "        b1, e1 = range1[0],range1[1]\n",
    "        b2, e2 = range2[0],range2[1]\n",
    "        if(b1<bi):\n",
    "            ranges.append((b1,bi))\n",
    "        if(ei < e1):\n",
    "            ranges.append((ei,e1))\n",
    "        return(ranges)\n",
    "    else:\n",
    "        return(None)\n",
    "\n",
    "def intersect_of_ranges(range1, range2):\n",
    "    b1, e1 = range1[0],range1[1]\n",
    "    b2, e2 = range2[0],range2[1]\n",
    "    max_start = max(b1, b2)\n",
    "    min_end = min(e1,e2)\n",
    "    if(min_end > max_start):\n",
    "        return((max_start, min_end))\n",
    "    else:\n",
    "        return(None)\n",
    "        \n",
    "def union_of_ranges(range_list):\n",
    "    range_union = []\n",
    "    range_list = sorted(range_list, key= lambda x: x[0])\n",
    "    for r in range_list:\n",
    "        beg, end = r[0], r[1]\n",
    "        if(len(range_union)==0):\n",
    "            range_union.append(r)\n",
    "        else:\n",
    "            last = range_union[-1]\n",
    "            beg_last, end_last = last[0], last[1]\n",
    "            if(end_last > beg):\n",
    "                range_union[-1] = (beg_last, max(end, end_last))\n",
    "            else:\n",
    "                range_union.append((beg, end))\n",
    "    return(range_union)\n",
    "\n",
    "\n",
    "#ref_range = (8,12)\n",
    "#for r in [(2,10), (10,14),(9,11), (2,14)]:\n",
    "    #print(\"OUT\",union_of_ranges([ref_range, r]))\n",
    "    #print()\n",
    "    #print(difference_of_ranges(r, ref_range))\n",
    "    #print(intersect_of_ranges(r, ref_range))"
   ]
  },
  {
   "cell_type": "code",
   "execution_count": 19,
   "metadata": {},
   "outputs": [
    {
     "name": "stdout",
     "output_type": "stream",
     "text": [
      "[(79, 93), (55, 68)]\n"
     ]
    }
   ],
   "source": [
    "all_seeds_ranges = []\n",
    "for i in range(0,len(seeds),2):\n",
    "    start, length = seeds[i], seeds[i+1]\n",
    "    all_seeds_ranges.append((start,start+length))\n",
    "all_seeds_ranges\n",
    "\n",
    "end = process_seeds_range(all_seeds_ranges, all_things, map_order)"
   ]
  },
  {
   "cell_type": "code",
   "execution_count": 11,
   "metadata": {},
   "outputs": [
    {
     "ename": "NameError",
     "evalue": "name 'out_ranges' is not defined",
     "output_type": "error",
     "traceback": [
      "\u001b[0;31m---------------------------------------------------------------------------\u001b[0m",
      "\u001b[0;31mNameError\u001b[0m                                 Traceback (most recent call last)",
      "Input \u001b[0;32mIn [11]\u001b[0m, in \u001b[0;36m<cell line: 1>\u001b[0;34m()\u001b[0m\n\u001b[0;32m----> 1\u001b[0m \u001b[38;5;28mprint\u001b[39m(\u001b[38;5;28msorted\u001b[39m(\u001b[43mout_ranges\u001b[49m, key\u001b[38;5;241m=\u001b[39m \u001b[38;5;28;01mlambda\u001b[39;00m x: x\u001b[38;5;241m.\u001b[39mstart))\n",
      "\u001b[0;31mNameError\u001b[0m: name 'out_ranges' is not defined"
     ]
    }
   ],
   "source": [
    "print(sorted(out_ranges, key= lambda x: x.start))"
   ]
  },
  {
   "cell_type": "code",
   "execution_count": 14,
   "metadata": {},
   "outputs": [
    {
     "ename": "SyntaxError",
     "evalue": "unexpected EOF while parsing (3309402751.py, line 2)",
     "output_type": "error",
     "traceback": [
      "\u001b[0;36m  Input \u001b[0;32mIn [14]\u001b[0;36m\u001b[0m\n\u001b[0;31m    \u001b[0m\n\u001b[0m    ^\u001b[0m\n\u001b[0;31mSyntaxError\u001b[0m\u001b[0;31m:\u001b[0m unexpected EOF while parsing\n"
     ]
    }
   ],
   "source": [
    "def find_correspondences(range, map_sel):\n",
    "    "
   ]
  },
  {
   "cell_type": "code",
   "execution_count": 15,
   "metadata": {},
   "outputs": [],
   "source": [
    "\n",
    "def find_correspondences(number, map_sel):\n",
    "\n",
    "    source_mins = [x[1] for x in map_sel]\n",
    "    source_maxs = [x[1]+x[2] for x in map_sel]\n",
    "    offsets = [x[0]-x[1] for x in map_sel]\n",
    "    for mini, maxi, ofst in zip(source_mins, source_maxs, offsets):\n",
    "        if mini <= number < maxi:\n",
    "            #print(number+ofst)\n",
    "            return(number+ofst)\n",
    "\n",
    "    return(number)"
   ]
  },
  {
   "cell_type": "code",
   "execution_count": null,
   "metadata": {},
   "outputs": [],
   "source": []
  }
 ],
 "metadata": {
  "kernelspec": {
   "display_name": "Python 3",
   "language": "python",
   "name": "python3"
  },
  "language_info": {
   "codemirror_mode": {
    "name": "ipython",
    "version": 3
   },
   "file_extension": ".py",
   "mimetype": "text/x-python",
   "name": "python",
   "nbconvert_exporter": "python",
   "pygments_lexer": "ipython3",
   "version": "3.8.10"
  }
 },
 "nbformat": 4,
 "nbformat_minor": 2
}
